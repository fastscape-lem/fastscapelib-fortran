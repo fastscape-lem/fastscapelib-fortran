{
 "cells": [
  {
   "cell_type": "markdown",
   "metadata": {},
   "source": [
    "**FastScape_test**\n",
    "\n",
    "This notebook illustrates the use of the *fastscapelib* library from within Python.\n",
    "\n",
    "To install the Python package, go in fastscapelib's top-level folder (i.e., where ``setup.py`` is located) and run:\n",
    "\n",
    "```\n",
    "$ pip install .\n",
    "```\n",
    "\n",
    "This should install the required dependencies and tools needed to build the package (except a Fortran compiler and NumPy, which must be both already installed). Note: you need ``pip >= 10``."
   ]
  },
  {
   "cell_type": "code",
   "execution_count": null,
   "metadata": {},
   "outputs": [],
   "source": [
    "import numpy as np\n",
    "import matplotlib.pyplot as plt\n",
    "\n",
    "import fastscapelib_fortran as fs\n",
    "\n",
    "%matplotlib inline"
   ]
  },
  {
   "cell_type": "markdown",
   "metadata": {},
   "source": [
    "This is a simple (low resolution) example where the right-hand side of a rectangular model is an initially 100 m high plateau subjected to erosion, while the left-hand side is kept fixed at base level. The SPL is linear (`n = 1`) but completed by a sediment transport/deposition algoithm with `g = 1`.\n",
    "\n",
    "Boundary conditions are closed except for the left hand-side (bounday number 4) set to base level.\n",
    "\n",
    "The model is run for 200 time steps and the results are stored in `.vtk` files where the drainage area is also stored."
   ]
  },
  {
   "cell_type": "code",
   "execution_count": null,
   "metadata": {},
   "outputs": [],
   "source": [
    "fs.fastscape_init()\n",
    "\n",
    "nx = 201\n",
    "ny = 101\n",
    "nn = nx*ny\n",
    "\n",
    "fs.fastscape_set_nx_ny(nx, ny)\n",
    "fs.fastscape_setup()\n",
    "\n",
    "xl = 20.e3\n",
    "yl = 10.e3\n",
    "fs.fastscape_set_xl_yl(xl,yl)\n",
    "\n",
    "xlist = np.linspace(0, xl, nx)\n",
    "ylist = np.linspace(0, yl, ny)\n",
    "X, Y = np.meshgrid(xlist, ylist)\n",
    "x = X.reshape(nn)\n",
    "y = Y.reshape(nn)\n",
    "\n",
    "dt = 2.e3\n",
    "fs.fastscape_set_dt(dt)\n",
    "\n",
    "kf = np.ones(nn)*1.e-4\n",
    "kfsed = 1.e-4\n",
    "kd = np.ones(nn)*1.e-2\n",
    "kdsed = 1.e-2\n",
    "m = 0.4\n",
    "n = 1.0\n",
    "g1 = 1.0\n",
    "g2 = 1.0\n",
    "expp = -1.0\n",
    "fs.fastscape_set_erosional_parameters(kf, kfsed, m, n, kd, kdsed, g1, g2, expp)\n",
    "\n",
    "bc = 1\n",
    "fs.fastscape_set_bc(bc)\n",
    "\n",
    "h = np.random.random_sample((nn,))\n",
    "h = np.where(x > xl/2, h + 1000., h)\n",
    "fs.fastscape_init_h(h)\n",
    "\n",
    "nstep = 200\n",
    "step = 0\n",
    "a = np.zeros(nn)\n",
    "vex = 5.\n",
    "\n",
    "while step < nstep :\n",
    "    fs.fastscape_execute_step()\n",
    "    step = fs.fastscape_get_step()\n",
    "    fs.fastscape_copy_drainage_area(a)\n",
    "    fs.fastscape_vtk(a, vex)\n",
    "\n",
    "fs.fastscape_destroy()"
   ]
  },
  {
   "cell_type": "markdown",
   "metadata": {},
   "source": [
    "The drainage area of the last time step is also shown as a contour plot"
   ]
  },
  {
   "cell_type": "code",
   "execution_count": null,
   "metadata": {},
   "outputs": [],
   "source": [
    "X = X/1.e3\n",
    "Y = Y/1.e3\n",
    "Z = np.reshape(np.log10(a),(ny,nx))\n",
    "plt.figure()\n",
    "fig,ax=plt.subplots(figsize=(10,10*yl/xl))\n",
    "ax.set_aspect(1)\n",
    "cp = plt.contourf(X, Y, Z)\n",
    "plt.colorbar(cp)\n",
    "plt.title('Topography (m)')\n",
    "plt.xlabel('x (km)')\n",
    "plt.ylabel('y (km)')\n",
    "plt.show()"
   ]
  },
  {
   "cell_type": "markdown",
   "metadata": {},
   "source": [
    "Note that the signature of any function is available through the docstrings."
   ]
  },
  {
   "cell_type": "code",
   "execution_count": null,
   "metadata": {},
   "outputs": [],
   "source": [
    "fs.fastscape_set_erosional_parameters?"
   ]
  },
  {
   "cell_type": "code",
   "execution_count": null,
   "metadata": {},
   "outputs": [],
   "source": []
  },
  {
   "cell_type": "code",
   "execution_count": null,
   "metadata": {},
   "outputs": [],
   "source": []
  }
 ],
 "metadata": {
  "kernelspec": {
   "display_name": "Python 3",
   "language": "python",
   "name": "python3"
  },
  "language_info": {
   "codemirror_mode": {
    "name": "ipython",
    "version": 3
   },
   "file_extension": ".py",
   "mimetype": "text/x-python",
   "name": "python",
   "nbconvert_exporter": "python",
   "pygments_lexer": "ipython3",
   "version": "3.6.7"
  }
 },
 "nbformat": 4,
 "nbformat_minor": 2
}
