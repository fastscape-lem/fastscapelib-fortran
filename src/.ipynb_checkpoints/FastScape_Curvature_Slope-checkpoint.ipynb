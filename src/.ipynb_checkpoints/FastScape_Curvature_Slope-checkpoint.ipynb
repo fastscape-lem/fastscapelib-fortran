{
 "cells": [
  {
   "cell_type": "markdown",
   "metadata": {},
   "source": [
    "**FastScape_test**\n",
    "\n",
    "This notebook illustrates the use of the *fastscapelib* library from within Python.\n",
    "\n",
    "To install the Python package, go in fastscapelib's top-level folder (i.e., where ``setup.py`` is located) and run:\n",
    "\n",
    "```\n",
    "$ pip install .\n",
    "```\n",
    "\n",
    "This should install the required dependencies and tools needed to build the package (except a Fortran compiler and NumPy, which must be both already installed). Note: you need ``pip >= 10``."
   ]
  },
  {
   "cell_type": "code",
   "execution_count": 1,
   "metadata": {},
   "outputs": [],
   "source": [
    "import numpy as np\n",
    "import matplotlib.pyplot as plt\n",
    "import numba\n",
    "\n",
    "import fastscapelib_fortran as fs\n",
    "\n",
    "%matplotlib inline"
   ]
  },
  {
   "cell_type": "markdown",
   "metadata": {},
   "source": [
    "This is a simple (low resolution) example where the right-hand side of a rectangular model is an initially 100 m high plateau subjected to erosion, while the left-hand side is kept fixed at base level. The SPL is linear (`n = 1`) but completed by a sediment transport/deposition algoithm with `g = 1`.\n",
    "\n",
    "Boundary conditions are closed except for the left hand-side (bounday number 4) set to base level.\n",
    "\n",
    "The model is run for 200 time steps and the results are stored in `.vtk` files where the drainage area is also stored."
   ]
  },
  {
   "cell_type": "markdown",
   "metadata": {},
   "source": [
    "Function to compute slope"
   ]
  },
  {
   "cell_type": "code",
   "execution_count": 2,
   "metadata": {},
   "outputs": [],
   "source": [
    "@numba.njit\n",
    "def slope(hi, nx, ny, xl, yl):\n",
    "    h = np.reshape(hi,(ny,nx))\n",
    "    s = np.zeros((ny,nx))\n",
    "    con = 180/np.pi\n",
    "    dx = xl/(nx - 1)\n",
    "    dy = yl/(ny - 1)\n",
    "    for j in range(1,ny-1):\n",
    "        for i in range(1,nx-1):\n",
    "            dzdx = ((h[j+1,i+1]+2*h[j,i+1]+h[j-1,i+1])-(h[j+1,i-1]+2*h[j,i-1]+h[j-1,i-1]))/8/dx\n",
    "            dzdy = ((h[j-1,i-1]+2*h[j-1,i]+h[j-1,i+1])-(h[j+1,i-1]+2*h[j+1,i]+h[j+1,i+1]))/8/dy\n",
    "            s[j,i] = dzdx**2+dzdy**2\n",
    "            if s[j,i] > 0:\n",
    "                s[j,i] = np.arctan(np.sqrt(s[j,i]))*con\n",
    "    s0 = np.reshape(s,nx*ny)\n",
    "    return s0"
   ]
  },
  {
   "cell_type": "code",
   "execution_count": 3,
   "metadata": {},
   "outputs": [],
   "source": [
    "@numba.njit\n",
    "def curvature(hi, nx, ny, xl, yl):\n",
    "    h = np.reshape(hi,(ny,nx))\n",
    "    curv = np.zeros((ny,nx))\n",
    "    dx = xl/(nx - 1)\n",
    "    dy = yl/(ny - 1)\n",
    "    for j in range(1,ny-1):\n",
    "        for i in range(1,nx-1):\n",
    "            a=(h[j+1,i-1]+h[j+1,i+1]+h[j,i-1]+h[j,i+1]+h[j-1,i-1]+h[j-1,i+1])/dx/dx/12-(h[j+1,i]+h[j,i]+h[j-1,i])/dx/dx/6\n",
    "            b=(h[j+1,i-1]+h[j+1,i]+h[j+1,i+1]+h[j-1,i-1]+h[j-1,i]+h[j-1,i+1])/dy/dy/12-(h[j,i-1]+h[j,i]+h[j,i+1])/dy/dy/6\n",
    "            c=(h[j+1,i+1]+h[j-1,i-1]-h[j+1,i-1]-h[j-1,i+1])/dx/dy/4\n",
    "            d=(h[j+1,i+1]+h[j,i+1]+h[j-1,i+1]-h[j+1,i-1]-h[j,i-1]-h[j-1,i-1])/dx/6\n",
    "            e=(h[j+1,i-1]+h[j+1,i]+h[j+1,i+1]-h[j-1,i-1]-h[j-1,i]-h[j-1,i+1])/dy/6\n",
    "            f=(2*(h[j+1,i]+h[j,i-1]+h[j,i+1]+h[j-1,i])-(h[j+1,i-1]+h[j+1,i+1]+h[j-1,i-1]+h[j-1,i+1])+5*h[j,i])/9\n",
    "            curv[j,i]=1+d**2+e**2\n",
    "            if curv[j,i]>0:\n",
    "                curv[j,i]=(a*(1+e**2)+b*(1+d**2)-c*d*e)/(curv[j,i]**(3/2))\n",
    "    curv0 = np.reshape(curv,nx*ny)\n",
    "    return curv0"
   ]
  },
  {
   "cell_type": "code",
   "execution_count": 6,
   "metadata": {},
   "outputs": [],
   "source": [
    "fs.fastscape_init()\n",
    "\n",
    "nx = 201\n",
    "ny = 101\n",
    "nn = nx*ny\n",
    "\n",
    "fs.fastscape_set_nx_ny(nx, ny)\n",
    "fs.fastscape_setup()\n",
    "\n",
    "xl = 20.e3\n",
    "yl = 10.e3\n",
    "fs.fastscape_set_xl_yl(xl,yl)\n",
    "\n",
    "xlist = np.linspace(0, xl, nx)\n",
    "ylist = np.linspace(0, yl, ny)\n",
    "X, Y = np.meshgrid(xlist, ylist)\n",
    "x = X.reshape(nn)\n",
    "y = Y.reshape(nn)\n",
    "\n",
    "dt = 2.e3\n",
    "fs.fastscape_set_dt(dt)\n",
    "\n",
    "kf = np.ones(nn)*1.e-4\n",
    "kfsed = 1.e-4\n",
    "kd = np.ones(nn)*1.e-2\n",
    "kdsed = 1.e-2\n",
    "m = 0.4\n",
    "n = 1.0\n",
    "g1 = 1.0\n",
    "g2 = 1.0\n",
    "expp = 1.0\n",
    "fs.fastscape_set_erosional_parameters(kf, kfsed, m, n, kd, kdsed, g1, g2, expp)\n",
    "\n",
    "bc = 1\n",
    "fs.fastscape_set_bc(bc)\n",
    "\n",
    "h = np.random.random_sample((nn,))\n",
    "h = np.where(x > xl/2, h + 1000., h)\n",
    "fs.fastscape_init_h(h)\n",
    "\n",
    "nstep = 200\n",
    "step = 0\n",
    "a = np.zeros(nn)\n",
    "vex = 5.\n",
    "\n",
    "while step < nstep :\n",
    "    fs.fastscape_execute_step()\n",
    "    step = fs.fastscape_get_step()\n",
    "    fs.fastscape_copy_h(h)\n",
    "    a = slope(h, nx, ny, xl, yl)\n",
    "    fs.fastscape_vtk(a, vex)\n",
    "\n",
    "fs.fastscape_destroy()"
   ]
  },
  {
   "cell_type": "markdown",
   "metadata": {},
   "source": [
    "The drainage area of the last time step is also shown as a contour plot"
   ]
  },
  {
   "cell_type": "code",
   "execution_count": 7,
   "metadata": {},
   "outputs": [
    {
     "data": {
      "text/plain": [
       "<Figure size 432x288 with 0 Axes>"
      ]
     },
     "metadata": {},
     "output_type": "display_data"
    },
    {
     "data": {
      "image/png": "[encoded data removed]",
      "text/plain": [
       "<Figure size 720x360 with 2 Axes>"
      ]
     },
     "metadata": {
      "needs_background": "light"
     },
     "output_type": "display_data"
    }
   ],
   "source": [
    "X = X/1.e3\n",
    "Y = Y/1.e3\n",
    "#Z = np.reshape(np.log10(a),(ny,nx))\n",
    "Z = np.reshape(a,(ny,nx))\n",
    "plt.figure()\n",
    "fig,ax=plt.subplots(figsize=(10,10*yl/xl))\n",
    "ax.set_aspect(1)\n",
    "cp = plt.contourf(X, Y, Z)\n",
    "plt.colorbar(cp)\n",
    "plt.title('Topography (m)')\n",
    "plt.xlabel('x (km)')\n",
    "plt.ylabel('y (km)')\n",
    "plt.show()"
   ]
  },
  {
   "cell_type": "markdown",
   "metadata": {},
   "source": [
    "Note that the signature of any function is available through the docstrings."
   ]
  },
  {
   "cell_type": "code",
   "execution_count": null,
   "metadata": {},
   "outputs": [],
   "source": [
    "fs.fastscape_set_erosional_parameters?"
   ]
  },
  {
   "cell_type": "code",
   "execution_count": null,
   "metadata": {},
   "outputs": [],
   "source": []
  }
 ],
 "metadata": {
  "kernelspec": {
   "display_name": "Python 3",
   "language": "python",
   "name": "python3"
  },
  "language_info": {
   "codemirror_mode": {
    "name": "ipython",
    "version": 3
   },
   "file_extension": ".py",
   "mimetype": "text/x-python",
   "name": "python",
   "nbconvert_exporter": "python",
   "pygments_lexer": "ipython3",
   "version": "3.6.7"
  }
 },
 "nbformat": 4,
 "nbformat_minor": 2
}
